{
 "cells": [
  {
   "cell_type": "code",
   "execution_count": 46,
   "metadata": {},
   "outputs": [
    {
     "name": "stdout",
     "output_type": "stream",
     "text": [
      "Automatically created module for IPython interactive environment\n"
     ]
    }
   ],
   "source": [
    "print(__doc__)"
   ]
  },
  {
   "cell_type": "markdown",
   "metadata": {
    "collapsed": true
   },
   "source": [
    "# gender_classification_challenge\n",
    "\n",
    "## Overview\n",
    "\n",
    "This is the code for the gender classification challenge for 'Learn Python for Data Science #1' by @Sirajology on [YouTube](https://youtu.be/T5pRlIbr6gg). The code uses the [scikit-learn](http://scikit-learn.org/) machine learning library to train a [decision tree](https://en.wikipedia.org/wiki/Decision_tree) on a small dataset of body metrics (height, width, and shoe size) labeled male or female. Then we can predict the gender of someone given a novel set of body metrics. \n",
    "\n",
    "## Dependencies\n",
    "\n",
    "* Scikit-learn (http://scikit-learn.org/stable/install.html)\n",
    "* numpy (pip install numpy)\n",
    "* scipy (pip install scipy)\n",
    "\n",
    "Install missing dependencies using [pip](https://pip.pypa.io/en/stable/installing/)\n",
    "\n",
    "## Usage\n",
    "\n",
    "Once you have your dependencies installed via pip, run the script in terminal via\n",
    "\n",
    "```\n",
    "python demo.py\n",
    "```\n",
    "\n",
    "## Challenge\n",
    "\n",
    "Find 3 more classifiers from the sci-kit learn [documentation](http://scikit-learn.org/stable/auto_examples/classification/plot_classifier_comparison.html) and add them to the demo.py code. Train them on the same dataset and [compare their results](http://scikit-learn.org/stable/modules/generated/sklearn.metrics.accuracy_score.html). You can determine accuracy by trying to predict testing you trained classifier on samples from the training data and see if it correctly classifies it. Push your code repository to [github](https://help.github.com/articles/set-up-git/) then post it in the comments. I'll give the winner a shoutout a week from now!\n",
    "\n",
    "## Credits\n",
    "\n",
    "Credits for some of the code go to [chribsen](https://github.com/chribsen). I've merely created a wrapper to get people started easily."
   ]
  },
  {
   "cell_type": "code",
   "execution_count": 39,
   "metadata": {},
   "outputs": [
    {
     "name": "stdout",
     "output_type": "stream",
     "text": [
      "Challenge: ['male']\n"
     ]
    }
   ],
   "source": [
    "from sklearn import tree\n",
    "\n",
    "clf = tree.DecisionTreeClassifier()\n",
    "\n",
    "# CHALLENGE - create 3 more classifiers...\n",
    "# 1\n",
    "# 2\n",
    "# 3\n",
    "\n",
    "# [height, weight, shoe_size]\n",
    "X = [[181, 80, 44], [177, 70, 43], [160, 60, 38], [154, 54, 37], [166, 65, 40],\n",
    "     [190, 90, 47], [175, 64, 39],\n",
    "     [177, 70, 40], [159, 55, 37], [171, 75, 42], [181, 85, 43]]\n",
    "\n",
    "Y = ['male', 'male', 'female', 'female', 'male', 'male', 'female', 'female',\n",
    "     'female', 'male', 'male']\n",
    "\n",
    "\n",
    "# CHALLENGE - ...and train them on our data\n",
    "clf = clf.fit(X, Y)\n",
    "\n",
    "prediction = clf.predict([[190, 70, 43]])\n",
    "\n",
    "# CHALLENGE compare their reusults and print the best one!\n",
    "\n",
    "print('Challenge: '+ str(prediction))"
   ]
  },
  {
   "cell_type": "markdown",
   "metadata": {},
   "source": [
    " > Author: Nestor Hernandez <zensualito@gmail.com>\n",
    " \n",
    " > License: BSD 3 clause"
   ]
  },
  {
   "cell_type": "code",
   "execution_count": 40,
   "metadata": {
    "collapsed": true
   },
   "outputs": [],
   "source": [
    "from sklearn.gaussian_process import GaussianProcessClassifier as gau\n",
    "from sklearn.gaussian_process.kernels import RBF\n",
    "from sklearn.neighbors import KNeighborsClassifier as knb\n",
    "from sklearn.svm import SVC"
   ]
  },
  {
   "cell_type": "code",
   "execution_count": 41,
   "metadata": {},
   "outputs": [],
   "source": [
    "X = [[181, 80, 44], [177, 70, 43], [160, 60, 38], [154, 54, 37], [166, 65, 40],\n",
    "     [190, 90, 47], [175, 64, 39],\n",
    "     [177, 70, 40], [159, 55, 37], [171, 75, 42], [181, 85, 43]]\n",
    "y = ['male', 'male', 'female', 'female', 'male', 'male', 'female', 'female',\n",
    "     'female', 'male', 'male']"
   ]
  },
  {
   "cell_type": "code",
   "execution_count": 42,
   "metadata": {},
   "outputs": [
    {
     "name": "stdout",
     "output_type": "stream",
     "text": [
      "Neighbours Classifier to fit the data...\n",
      "Prediction: ['male']\n"
     ]
    }
   ],
   "source": [
    "prediction = None\n",
    "# http://scikit-learn.org/stable/modules/neighbors.html#classification\n",
    "print('Neighbours Classifier to fit the data...')\n",
    "clf = knb(3, weights='distance')\n",
    "clf.fit(X, y)\n",
    "prediction = clf.predict([[190, 70, 43]])\n",
    "print('Prediction: '+ str(prediction))"
   ]
  },
  {
   "cell_type": "code",
   "execution_count": 43,
   "metadata": {},
   "outputs": [
    {
     "name": "stdout",
     "output_type": "stream",
     "text": [
      "Gaussian Classifier to fit the data...\n",
      "Prediction: ['male'] <-- Gaussian\n"
     ]
    }
   ],
   "source": [
    "prediction = None\n",
    "# http://scikit-learn.org/stable/modules/generated/sklearn.gaussian_process.GaussianProcessClassifier.html#sklearn.gaussian_process.GaussianProcessClassifier\n",
    "print('Gaussian Classifier to fit the data...')\n",
    "clf = gau(1.0 * RBF(1.0), warm_start=True).fit(X, y)\n",
    "prediction = clf.predict([[190, 70, 43]])\n",
    "print('Prediction: '+ str(prediction) + ' <-- Gaussian')    "
   ]
  },
  {
   "cell_type": "code",
   "execution_count": 38,
   "metadata": {},
   "outputs": [
    {
     "name": "stdout",
     "output_type": "stream",
     "text": [
      "C-Support Vector Classification to fit the data...\n",
      "Prediction: ['male'] <-- SVC\n"
     ]
    }
   ],
   "source": [
    "prediction = None\n",
    "# http://scikit-learn.org/stable/modules/generated/sklearn.svm.SVC.html#sklearn.svm.SVC\n",
    "print('C-Support Vector Classification to fit the data...')\n",
    "clf = SVC(gamma=2, C=1).fit(X,y)\n",
    "prediction = clf.predict([[190, 70, 43]])\n",
    "print('Prediction: '+ str(prediction) + ' <-- SVC')    "
   ]
  },
  {
   "cell_type": "markdown",
   "metadata": {},
   "source": [
    "# Metrics\n",
    "http://scikit-learn.org/stable/modules/generated/sklearn.metrics.accuracy_score.html"
   ]
  },
  {
   "cell_type": "code",
   "execution_count": 48,
   "metadata": {},
   "outputs": [
    {
     "data": {
      "text/plain": [
       "1.0"
      ]
     },
     "execution_count": 48,
     "metadata": {},
     "output_type": "execute_result"
    }
   ],
   "source": [
    "from sklearn.metrics import accuracy_score\n",
    "y_pred = [1, 1, 1, 1] # Prediction\n",
    "y_true = [1, 1, 1, 1] # Expectation\n",
    "accuracy_score(y_true, y_pred)"
   ]
  },
  {
   "cell_type": "code",
   "execution_count": null,
   "metadata": {
    "collapsed": true
   },
   "outputs": [],
   "source": []
  }
 ],
 "metadata": {
  "kernelspec": {
   "display_name": "Python 3",
   "language": "python",
   "name": "python3"
  },
  "language_info": {
   "codemirror_mode": {
    "name": "ipython",
    "version": 3
   },
   "file_extension": ".py",
   "mimetype": "text/x-python",
   "name": "python",
   "nbconvert_exporter": "python",
   "pygments_lexer": "ipython3",
   "version": "3.6.1"
  }
 },
 "nbformat": 4,
 "nbformat_minor": 2
}
